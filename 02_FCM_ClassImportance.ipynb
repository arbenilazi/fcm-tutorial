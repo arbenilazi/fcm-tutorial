{
 "cells": [
  {
   "cell_type": "markdown",
   "id": "5d17ee5b-797f-4fde-ac5b-7cfa5023951b",
   "metadata": {},
   "source": [
    "# Class importance using Fuzzy Cognitive Maps\n",
    "\n",
    "Fuzzy Cognitive maps can be used for classification tasks. One of the big benefits of them is, that they can be explained more easily than neural networks for example.\n",
    "Based on the python package `fmcpy` and their example presented in their [paper](https://arxiv.org/pdf/2111.12749) we will go through one case, to get a better idea of how it works. We will take a look at the class importance."
   ]
  },
  {
   "cell_type": "markdown",
   "id": "7dcfb1c7-2c0b-4a59-9a6d-9b2b83213a47",
   "metadata": {},
   "source": [
    "### Long-Term Cognitive Networks (LTCN-MP)\n",
    "\n",
    "In the image below there is a visualization from the above mentioned paper. The graph consists of:\n",
    "* input signal: x1, x2, x3\n",
    "* inner layer: c1, c2, c3\n",
    "* outer layer: c4, c5, c6\n",
    "* output layer: y1, y2, y3\n",
    "\n",
    "The weights between the nodes of the inner layer are computet with the least square problem (unsupervised) and the weights between the inner and outer layer with the Moore-Penrose-Inverse.\n",
    "\n",
    "![LTCN_MP Visualization](image/LTCN_MP_Paper.png)\n",
    "\n",
    "Here we load the necessary packages and functions."
   ]
  },
  {
   "cell_type": "code",
   "execution_count": 1,
   "id": "767390e8-df9b-4c97-b678-ed57165ad4a2",
   "metadata": {
    "ExecuteTime": {
     "end_time": "2025-02-10T19:31:40.738759Z",
     "start_time": "2025-02-10T19:31:40.268645Z"
    }
   },
   "outputs": [],
   "source": [
    "import fcmpy.ml.classification.FCM_MP as mp\n",
    "import matplotlib.pylab as plt"
   ]
  },
  {
   "cell_type": "markdown",
   "id": "72005dfc-1dfc-41d0-bd47-87f2a1d9c3bb",
   "metadata": {},
   "source": [
    "## Input format\n",
    "\n",
    "When working with the `fcmpy` package, it is necessary to use the **.arff** format and that the values are normalized."
   ]
  },
  {
   "cell_type": "code",
   "execution_count": 2,
   "id": "b7491943-3d59-4a52-baa6-f0d1da5c5d57",
   "metadata": {
    "ExecuteTime": {
     "end_time": "2025-02-10T19:32:54.674831Z",
     "start_time": "2025-02-10T19:32:54.670711Z"
    }
   },
   "outputs": [],
   "source": [
    "sources = [\"data/irisnorm.arff\"]"
   ]
  },
  {
   "cell_type": "code",
   "execution_count": 3,
   "id": "14f598936d31c5e3",
   "metadata": {
    "ExecuteTime": {
     "end_time": "2025-02-10T19:32:55.496732Z",
     "start_time": "2025-02-10T19:32:55.491364Z"
    }
   },
   "outputs": [],
   "source": [
    "params = {\"sources\":sources}"
   ]
  },
  {
   "cell_type": "markdown",
   "id": "0675abe7-1358-4d81-b05f-4cf523c82bc7",
   "metadata": {},
   "source": [
    "As you may have experienced before, the well-known iris dataset lends itself for first examples and getting a feeling for a new approach or algorithm. If you haven't come across the dataset here a short description of it:\n",
    "\n",
    "The official title is **Iris Plants Database**. It was created by R.A. Fisher (Donor: Michael Marshall (MARSHALL%PLU@io.arc.nasa.gov) in July, 1988. The dataset consists of five columns. Those are:\n",
    "\n",
    "**Features:**\n",
    "* sepal length in cm\n",
    "* sepal width in cm\n",
    "* petal length in cm\n",
    "* petal width in cm\n",
    "\n",
    "**Target Class:**\n",
    "* class: \n",
    "    * Iris Setosa\n",
    "    * Iris Versicolour\n",
    "    * Iris Virginica\n",
    "\n"
   ]
  },
  {
   "cell_type": "markdown",
   "id": "b3b59a65-dd55-40bf-a82d-01ce84a6a78a",
   "metadata": {},
   "source": [
    "The packages allows us to change different parameter setting, which will effect the performance of the model.\n",
    "\n",
    "- **L (int, default=0)**: Used in reasoning rule 3 to determine temporal dependencies.\n",
    "- **M (int, default=1)**: Number of output variables in the dataset.\n",
    "- **T (int, default=None)**: Number of iterations in the FCM model; if not set, defaults to `features - output variables`.\n",
    "- **b1 (float, default=1.0)**: Weighting parameter used in reasoning rules to control activation function blending.\n",
    "- **folds (int, default=10)**: Number of folds used in Stratified K-Fold cross-validation.\n",
    "- **output (str, default='./output.csv')**: File path for saving results in CSV format.\n",
    "- **rule (int, choices=[0, 1, 2], default=0)**: Selection of reasoning rule:\n",
    "  - `0`: Standard logit function.\n",
    "  - `1`: Weighted combination of logit and previous output.\n",
    "  - `2`: Weighted combination including self-feedback.\n",
    "- **verbose (bool, default=False)**: If `True`, enables detailed output logging during training.\n",
    "\n",
    "**Activation Function Parameters** (`p` List)\n",
    "\n",
    "- **p[0] (float, default=1.0)**: Slope parameter for the activation function.\n",
    "- **p[1] (float, default=1.0)**: Offset (`h`) used for activation scaling.\n",
    "- **p[2] (float, default=1.0)**: `q` parameter, controlling curve steepness.\n",
    "- **p[3] (float, default=1.0)**: `v` parameter, adjusting function shape."
   ]
  },
  {
   "cell_type": "markdown",
   "id": "fadebacc-db80-450f-941f-b33032dcaa27",
   "metadata": {},
   "source": [
    "\n",
    "\n",
    "The output of the LTCN-MP is numeric and the implementation uses the Mean Squared Error (MSE) to update the weights."
   ]
  },
  {
   "cell_type": "code",
   "execution_count": 4,
   "id": "408a74f6-7bd4-49bf-aaaf-ae12ff123516",
   "metadata": {
    "ExecuteTime": {
     "end_time": "2025-02-10T19:32:57.914538Z",
     "start_time": "2025-02-10T19:32:57.859835Z"
    }
   },
   "outputs": [
    {
     "name": "stdout",
     "output_type": "stream",
     "text": [
      "Processing data/irisnorm.arff\n",
      "{'b1': '1.00', 'L': 0, 'slope': '1.00', 'h': '1.00', 'train_error': 0.16132028857687228, 'test_error': 0.16131848791992734, 'training_time': 0.0005829, 'weights': array([[ 0.87938423, -0.05353946,  1.        ],\n",
      "       [-0.08401702,  0.87938423, -0.57062046],\n",
      "       [ 0.58553814, -0.21291645,  0.87938423]]), 'importance': array([[ 1.        ],\n",
      "       [-0.38801166],\n",
      "       [-0.7000843 ]])}\n",
      "MSE Average of the model across the 1 datasets: 0.1613\n"
     ]
    }
   ],
   "source": [
    "out = mp.run(**params)"
   ]
  },
  {
   "cell_type": "code",
   "execution_count": 5,
   "id": "9b740b8a-8aa6-4266-8886-33fd0b4bfefb",
   "metadata": {
    "ExecuteTime": {
     "end_time": "2025-02-10T19:33:00.855677Z",
     "start_time": "2025-02-10T19:33:00.847969Z"
    }
   },
   "outputs": [
    {
     "data": {
      "text/plain": [
       "array([[ 0.87938423, -0.05353946,  1.        ],\n",
       "       [-0.08401702,  0.87938423, -0.57062046],\n",
       "       [ 0.58553814, -0.21291645,  0.87938423]])"
      ]
     },
     "execution_count": 5,
     "metadata": {},
     "output_type": "execute_result"
    }
   ],
   "source": [
    "out[0][\"weights\"]"
   ]
  },
  {
   "cell_type": "markdown",
   "id": "c86f6802-1004-4fee-9d76-d1c6fb401e5b",
   "metadata": {},
   "source": [
    "The weight matrix (W) represents the relationships (causal influence) between concepts in the Fuzzy Cognitive Map (FCM)."
   ]
  },
  {
   "cell_type": "code",
   "execution_count": 6,
   "id": "43b1c251-6fca-4050-8b18-72eeaa1bb3d9",
   "metadata": {
    "ExecuteTime": {
     "end_time": "2025-02-10T19:33:02.470648Z",
     "start_time": "2025-02-10T19:33:02.389460Z"
    }
   },
   "outputs": [
    {
     "data": {
      "text/plain": [
       "<BarContainer object of 3 artists>"
      ]
     },
     "execution_count": 6,
     "metadata": {},
     "output_type": "execute_result"
    },
    {
     "data": {
      "image/png": "[encoded data removed]",
      "text/plain": [
       "<Figure size 640x480 with 1 Axes>"
      ]
     },
     "metadata": {},
     "output_type": "display_data"
    }
   ],
   "source": [
    "# feature importance for classification purposes\n",
    "fig, ax = plt.subplots()\n",
    "ax.bar(range(len(out[0][\"importance\"].flatten())),\n",
    "height=out[0][\"importance\"].flatten())"
   ]
  },
  {
   "cell_type": "markdown",
   "id": "062a2d51-719e-4cdb-9c77-31b19961db74",
   "metadata": {},
   "source": [
    "## Class Importance in Model Predictions\n",
    "\n",
    "Each value represents how strongly the model relies on each class when making a prediction:\n",
    "\n",
    "**1.0 (Iris Setosa)**\n",
    "* This means that **Iris Setosa** has the strongest positive influence in classification.\n",
    "* If the input strongly resembles Setosa, the model is very confident in classifying it correctly.\n",
    "\n",
    "**-0.388 (Iris Versicolor)**\n",
    "* A negative importance suggests that **Versicolor** competes with Setosa and Virginica.\n",
    "* If an input is classified as Versicolor, it reduces the confidence in other classes.\n",
    "\n",
    "**-0.700 (Iris Virginica)**\n",
    "* The most negative value means **Virginica** suppresses other class predictions the most.\n",
    "* When an instance strongly resembles Virginica, the model lowers the probability of it being Setosa or Versicolor."
   ]
  },
  {
   "cell_type": "code",
   "execution_count": null,
   "id": "1f625ad3-fceb-4e65-a8eb-5d923642409f",
   "metadata": {},
   "outputs": [],
   "source": []
  }
 ],
 "metadata": {
  "kernelspec": {
   "display_name": "Python 3 (ipykernel)",
   "language": "python",
   "name": "python3"
  },
  "language_info": {
   "codemirror_mode": {
    "name": "ipython",
    "version": 3
   },
   "file_extension": ".py",
   "mimetype": "text/x-python",
   "name": "python",
   "nbconvert_exporter": "python",
   "pygments_lexer": "ipython3",
   "version": "3.8.20"
  }
 },
 "nbformat": 4,
 "nbformat_minor": 9
}
